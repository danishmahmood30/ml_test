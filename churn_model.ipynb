{
 "cells": [
  {
   "cell_type": "code",
   "execution_count": 2,
   "metadata": {},
   "outputs": [],
   "source": [
    "#Load all the packages.\n",
    "import pandas as pd\n",
    "import numpy as np\n",
    "import seaborn as sns\n",
    "import matplotlib.pyplot as plt\n",
    "\n"
   ]
  },
  {
   "cell_type": "code",
   "execution_count": null,
   "metadata": {},
   "outputs": [],
   "source": []
  },
  {
   "cell_type": "code",
   "execution_count": 4,
   "metadata": {},
   "outputs": [],
   "source": [
    "#Load Dataset.\n",
    "df = pd.read_csv(\"churn.csv\")"
   ]
  },
  {
   "cell_type": "code",
   "execution_count": 7,
   "metadata": {},
   "outputs": [
    {
     "name": "stdout",
     "output_type": "stream",
     "text": [
      "<class 'pandas.core.frame.DataFrame'>\n",
      "RangeIndex: 3333 entries, 0 to 3332\n",
      "Data columns (total 21 columns):\n",
      " #   Column          Non-Null Count  Dtype  \n",
      "---  ------          --------------  -----  \n",
      " 0   State           3333 non-null   object \n",
      " 1   Account Length  3333 non-null   int64  \n",
      " 2   Area Code       3333 non-null   int64  \n",
      " 3   Phone           3333 non-null   object \n",
      " 4   Int'l Plan      3333 non-null   object \n",
      " 5   VMail Plan      3333 non-null   object \n",
      " 6   VMail Message   3333 non-null   int64  \n",
      " 7   Day Mins        3333 non-null   float64\n",
      " 8   Day Calls       3333 non-null   int64  \n",
      " 9   Day Charge      3333 non-null   float64\n",
      " 10  Eve Mins        3333 non-null   float64\n",
      " 11  Eve Calls       3333 non-null   int64  \n",
      " 12  Eve Charge      3333 non-null   float64\n",
      " 13  Night Mins      3333 non-null   float64\n",
      " 14  Night Calls     3333 non-null   int64  \n",
      " 15  Night Charge    3333 non-null   float64\n",
      " 16  Intl Mins       3333 non-null   float64\n",
      " 17  Intl Calls      3333 non-null   int64  \n",
      " 18  Intl Charge     3333 non-null   float64\n",
      " 19  CustServ Calls  3333 non-null   int64  \n",
      " 20  Churn?          3333 non-null   object \n",
      "dtypes: float64(8), int64(8), object(5)\n",
      "memory usage: 481.8+ KB\n"
     ]
    }
   ],
   "source": [
    "# Dataset Analysis: \n",
    "# 1. Get the shape of the dataset and print it.\n",
    "\n",
    "df.info()\n",
    "df.shape"
   ]
  },
  {
   "cell_type": "code",
   "execution_count": 6,
   "metadata": {},
   "outputs": [
    {
     "name": "stdout",
     "output_type": "stream",
     "text": [
      "State\n",
      "Account Length\n",
      "Area Code\n",
      "Phone\n",
      "Int'l Plan\n",
      "VMail Plan\n",
      "VMail Message\n",
      "Day Mins\n",
      "Day Calls\n",
      "Day Charge\n",
      "Eve Mins\n",
      "Eve Calls\n",
      "Eve Charge\n",
      "Night Mins\n",
      "Night Calls\n",
      "Night Charge\n",
      "Intl Mins\n",
      "Intl Calls\n",
      "Intl Charge\n",
      "CustServ Calls\n",
      "Churn?\n"
     ]
    }
   ],
   "source": [
    "# 2. Get the column names in list and print it.\n",
    "for col in df.columns: \n",
    "    print(col) "
   ]
  },
  {
   "cell_type": "code",
   "execution_count": 7,
   "metadata": {},
   "outputs": [
    {
     "data": {
      "text/html": [
       "<div>\n",
       "<style scoped>\n",
       "    .dataframe tbody tr th:only-of-type {\n",
       "        vertical-align: middle;\n",
       "    }\n",
       "\n",
       "    .dataframe tbody tr th {\n",
       "        vertical-align: top;\n",
       "    }\n",
       "\n",
       "    .dataframe thead th {\n",
       "        text-align: right;\n",
       "    }\n",
       "</style>\n",
       "<table border=\"1\" class=\"dataframe\">\n",
       "  <thead>\n",
       "    <tr style=\"text-align: right;\">\n",
       "      <th></th>\n",
       "      <th>Account Length</th>\n",
       "      <th>Area Code</th>\n",
       "      <th>VMail Message</th>\n",
       "      <th>Day Mins</th>\n",
       "      <th>Day Calls</th>\n",
       "      <th>Day Charge</th>\n",
       "      <th>Eve Mins</th>\n",
       "      <th>Eve Calls</th>\n",
       "      <th>Eve Charge</th>\n",
       "      <th>Night Mins</th>\n",
       "      <th>Night Calls</th>\n",
       "      <th>Night Charge</th>\n",
       "      <th>Intl Mins</th>\n",
       "      <th>Intl Calls</th>\n",
       "      <th>Intl Charge</th>\n",
       "      <th>CustServ Calls</th>\n",
       "    </tr>\n",
       "  </thead>\n",
       "  <tbody>\n",
       "    <tr>\n",
       "      <th>count</th>\n",
       "      <td>3333.000000</td>\n",
       "      <td>3333.000000</td>\n",
       "      <td>3333.000000</td>\n",
       "      <td>3333.000000</td>\n",
       "      <td>3333.000000</td>\n",
       "      <td>3333.000000</td>\n",
       "      <td>3333.000000</td>\n",
       "      <td>3333.000000</td>\n",
       "      <td>3333.000000</td>\n",
       "      <td>3333.000000</td>\n",
       "      <td>3333.000000</td>\n",
       "      <td>3333.000000</td>\n",
       "      <td>3333.000000</td>\n",
       "      <td>3333.000000</td>\n",
       "      <td>3333.000000</td>\n",
       "      <td>3333.000000</td>\n",
       "    </tr>\n",
       "    <tr>\n",
       "      <th>mean</th>\n",
       "      <td>101.064806</td>\n",
       "      <td>437.182418</td>\n",
       "      <td>8.099010</td>\n",
       "      <td>179.775098</td>\n",
       "      <td>100.435644</td>\n",
       "      <td>30.562307</td>\n",
       "      <td>200.980348</td>\n",
       "      <td>100.114311</td>\n",
       "      <td>17.083540</td>\n",
       "      <td>200.872037</td>\n",
       "      <td>100.107711</td>\n",
       "      <td>9.039325</td>\n",
       "      <td>10.237294</td>\n",
       "      <td>4.479448</td>\n",
       "      <td>2.764581</td>\n",
       "      <td>1.562856</td>\n",
       "    </tr>\n",
       "    <tr>\n",
       "      <th>std</th>\n",
       "      <td>39.822106</td>\n",
       "      <td>42.371290</td>\n",
       "      <td>13.688365</td>\n",
       "      <td>54.467389</td>\n",
       "      <td>20.069084</td>\n",
       "      <td>9.259435</td>\n",
       "      <td>50.713844</td>\n",
       "      <td>19.922625</td>\n",
       "      <td>4.310668</td>\n",
       "      <td>50.573847</td>\n",
       "      <td>19.568609</td>\n",
       "      <td>2.275873</td>\n",
       "      <td>2.791840</td>\n",
       "      <td>2.461214</td>\n",
       "      <td>0.753773</td>\n",
       "      <td>1.315491</td>\n",
       "    </tr>\n",
       "    <tr>\n",
       "      <th>min</th>\n",
       "      <td>1.000000</td>\n",
       "      <td>408.000000</td>\n",
       "      <td>0.000000</td>\n",
       "      <td>0.000000</td>\n",
       "      <td>0.000000</td>\n",
       "      <td>0.000000</td>\n",
       "      <td>0.000000</td>\n",
       "      <td>0.000000</td>\n",
       "      <td>0.000000</td>\n",
       "      <td>23.200000</td>\n",
       "      <td>33.000000</td>\n",
       "      <td>1.040000</td>\n",
       "      <td>0.000000</td>\n",
       "      <td>0.000000</td>\n",
       "      <td>0.000000</td>\n",
       "      <td>0.000000</td>\n",
       "    </tr>\n",
       "    <tr>\n",
       "      <th>25%</th>\n",
       "      <td>74.000000</td>\n",
       "      <td>408.000000</td>\n",
       "      <td>0.000000</td>\n",
       "      <td>143.700000</td>\n",
       "      <td>87.000000</td>\n",
       "      <td>24.430000</td>\n",
       "      <td>166.600000</td>\n",
       "      <td>87.000000</td>\n",
       "      <td>14.160000</td>\n",
       "      <td>167.000000</td>\n",
       "      <td>87.000000</td>\n",
       "      <td>7.520000</td>\n",
       "      <td>8.500000</td>\n",
       "      <td>3.000000</td>\n",
       "      <td>2.300000</td>\n",
       "      <td>1.000000</td>\n",
       "    </tr>\n",
       "    <tr>\n",
       "      <th>50%</th>\n",
       "      <td>101.000000</td>\n",
       "      <td>415.000000</td>\n",
       "      <td>0.000000</td>\n",
       "      <td>179.400000</td>\n",
       "      <td>101.000000</td>\n",
       "      <td>30.500000</td>\n",
       "      <td>201.400000</td>\n",
       "      <td>100.000000</td>\n",
       "      <td>17.120000</td>\n",
       "      <td>201.200000</td>\n",
       "      <td>100.000000</td>\n",
       "      <td>9.050000</td>\n",
       "      <td>10.300000</td>\n",
       "      <td>4.000000</td>\n",
       "      <td>2.780000</td>\n",
       "      <td>1.000000</td>\n",
       "    </tr>\n",
       "    <tr>\n",
       "      <th>75%</th>\n",
       "      <td>127.000000</td>\n",
       "      <td>510.000000</td>\n",
       "      <td>20.000000</td>\n",
       "      <td>216.400000</td>\n",
       "      <td>114.000000</td>\n",
       "      <td>36.790000</td>\n",
       "      <td>235.300000</td>\n",
       "      <td>114.000000</td>\n",
       "      <td>20.000000</td>\n",
       "      <td>235.300000</td>\n",
       "      <td>113.000000</td>\n",
       "      <td>10.590000</td>\n",
       "      <td>12.100000</td>\n",
       "      <td>6.000000</td>\n",
       "      <td>3.270000</td>\n",
       "      <td>2.000000</td>\n",
       "    </tr>\n",
       "    <tr>\n",
       "      <th>max</th>\n",
       "      <td>243.000000</td>\n",
       "      <td>510.000000</td>\n",
       "      <td>51.000000</td>\n",
       "      <td>350.800000</td>\n",
       "      <td>165.000000</td>\n",
       "      <td>59.640000</td>\n",
       "      <td>363.700000</td>\n",
       "      <td>170.000000</td>\n",
       "      <td>30.910000</td>\n",
       "      <td>395.000000</td>\n",
       "      <td>175.000000</td>\n",
       "      <td>17.770000</td>\n",
       "      <td>20.000000</td>\n",
       "      <td>20.000000</td>\n",
       "      <td>5.400000</td>\n",
       "      <td>9.000000</td>\n",
       "    </tr>\n",
       "  </tbody>\n",
       "</table>\n",
       "</div>"
      ],
      "text/plain": [
       "       Account Length    Area Code  VMail Message     Day Mins    Day Calls  \\\n",
       "count     3333.000000  3333.000000    3333.000000  3333.000000  3333.000000   \n",
       "mean       101.064806   437.182418       8.099010   179.775098   100.435644   \n",
       "std         39.822106    42.371290      13.688365    54.467389    20.069084   \n",
       "min          1.000000   408.000000       0.000000     0.000000     0.000000   \n",
       "25%         74.000000   408.000000       0.000000   143.700000    87.000000   \n",
       "50%        101.000000   415.000000       0.000000   179.400000   101.000000   \n",
       "75%        127.000000   510.000000      20.000000   216.400000   114.000000   \n",
       "max        243.000000   510.000000      51.000000   350.800000   165.000000   \n",
       "\n",
       "        Day Charge     Eve Mins    Eve Calls   Eve Charge   Night Mins  \\\n",
       "count  3333.000000  3333.000000  3333.000000  3333.000000  3333.000000   \n",
       "mean     30.562307   200.980348   100.114311    17.083540   200.872037   \n",
       "std       9.259435    50.713844    19.922625     4.310668    50.573847   \n",
       "min       0.000000     0.000000     0.000000     0.000000    23.200000   \n",
       "25%      24.430000   166.600000    87.000000    14.160000   167.000000   \n",
       "50%      30.500000   201.400000   100.000000    17.120000   201.200000   \n",
       "75%      36.790000   235.300000   114.000000    20.000000   235.300000   \n",
       "max      59.640000   363.700000   170.000000    30.910000   395.000000   \n",
       "\n",
       "       Night Calls  Night Charge    Intl Mins   Intl Calls  Intl Charge  \\\n",
       "count  3333.000000   3333.000000  3333.000000  3333.000000  3333.000000   \n",
       "mean    100.107711      9.039325    10.237294     4.479448     2.764581   \n",
       "std      19.568609      2.275873     2.791840     2.461214     0.753773   \n",
       "min      33.000000      1.040000     0.000000     0.000000     0.000000   \n",
       "25%      87.000000      7.520000     8.500000     3.000000     2.300000   \n",
       "50%     100.000000      9.050000    10.300000     4.000000     2.780000   \n",
       "75%     113.000000     10.590000    12.100000     6.000000     3.270000   \n",
       "max     175.000000     17.770000    20.000000    20.000000     5.400000   \n",
       "\n",
       "       CustServ Calls  \n",
       "count     3333.000000  \n",
       "mean         1.562856  \n",
       "std          1.315491  \n",
       "min          0.000000  \n",
       "25%          1.000000  \n",
       "50%          1.000000  \n",
       "75%          2.000000  \n",
       "max          9.000000  "
      ]
     },
     "execution_count": 7,
     "metadata": {},
     "output_type": "execute_result"
    }
   ],
   "source": [
    "# Describe the dataset to understand the basic statistics of the dataset\n",
    "df.describe()  \n"
   ]
  },
  {
   "cell_type": "code",
   "execution_count": 8,
   "metadata": {},
   "outputs": [
    {
     "data": {
      "text/html": [
       "<div>\n",
       "<style scoped>\n",
       "    .dataframe tbody tr th:only-of-type {\n",
       "        vertical-align: middle;\n",
       "    }\n",
       "\n",
       "    .dataframe tbody tr th {\n",
       "        vertical-align: top;\n",
       "    }\n",
       "\n",
       "    .dataframe thead th {\n",
       "        text-align: right;\n",
       "    }\n",
       "</style>\n",
       "<table border=\"1\" class=\"dataframe\">\n",
       "  <thead>\n",
       "    <tr style=\"text-align: right;\">\n",
       "      <th></th>\n",
       "      <th>State</th>\n",
       "      <th>Account Length</th>\n",
       "      <th>Area Code</th>\n",
       "      <th>Phone</th>\n",
       "      <th>Int'l Plan</th>\n",
       "      <th>VMail Plan</th>\n",
       "      <th>VMail Message</th>\n",
       "      <th>Day Mins</th>\n",
       "      <th>Day Calls</th>\n",
       "      <th>Day Charge</th>\n",
       "      <th>...</th>\n",
       "      <th>Eve Calls</th>\n",
       "      <th>Eve Charge</th>\n",
       "      <th>Night Mins</th>\n",
       "      <th>Night Calls</th>\n",
       "      <th>Night Charge</th>\n",
       "      <th>Intl Mins</th>\n",
       "      <th>Intl Calls</th>\n",
       "      <th>Intl Charge</th>\n",
       "      <th>CustServ Calls</th>\n",
       "      <th>Churn?</th>\n",
       "    </tr>\n",
       "  </thead>\n",
       "  <tbody>\n",
       "    <tr>\n",
       "      <th>0</th>\n",
       "      <td>KS</td>\n",
       "      <td>128</td>\n",
       "      <td>415</td>\n",
       "      <td>382-4657</td>\n",
       "      <td>no</td>\n",
       "      <td>yes</td>\n",
       "      <td>25</td>\n",
       "      <td>265.1</td>\n",
       "      <td>110</td>\n",
       "      <td>45.07</td>\n",
       "      <td>...</td>\n",
       "      <td>99</td>\n",
       "      <td>16.78</td>\n",
       "      <td>244.7</td>\n",
       "      <td>91</td>\n",
       "      <td>11.01</td>\n",
       "      <td>10.0</td>\n",
       "      <td>3</td>\n",
       "      <td>2.70</td>\n",
       "      <td>1</td>\n",
       "      <td>False.</td>\n",
       "    </tr>\n",
       "    <tr>\n",
       "      <th>1</th>\n",
       "      <td>OH</td>\n",
       "      <td>107</td>\n",
       "      <td>415</td>\n",
       "      <td>371-7191</td>\n",
       "      <td>no</td>\n",
       "      <td>yes</td>\n",
       "      <td>26</td>\n",
       "      <td>161.6</td>\n",
       "      <td>123</td>\n",
       "      <td>27.47</td>\n",
       "      <td>...</td>\n",
       "      <td>103</td>\n",
       "      <td>16.62</td>\n",
       "      <td>254.4</td>\n",
       "      <td>103</td>\n",
       "      <td>11.45</td>\n",
       "      <td>13.7</td>\n",
       "      <td>3</td>\n",
       "      <td>3.70</td>\n",
       "      <td>1</td>\n",
       "      <td>False.</td>\n",
       "    </tr>\n",
       "    <tr>\n",
       "      <th>2</th>\n",
       "      <td>NJ</td>\n",
       "      <td>137</td>\n",
       "      <td>415</td>\n",
       "      <td>358-1921</td>\n",
       "      <td>no</td>\n",
       "      <td>no</td>\n",
       "      <td>0</td>\n",
       "      <td>243.4</td>\n",
       "      <td>114</td>\n",
       "      <td>41.38</td>\n",
       "      <td>...</td>\n",
       "      <td>110</td>\n",
       "      <td>10.30</td>\n",
       "      <td>162.6</td>\n",
       "      <td>104</td>\n",
       "      <td>7.32</td>\n",
       "      <td>12.2</td>\n",
       "      <td>5</td>\n",
       "      <td>3.29</td>\n",
       "      <td>0</td>\n",
       "      <td>False.</td>\n",
       "    </tr>\n",
       "  </tbody>\n",
       "</table>\n",
       "<p>3 rows × 21 columns</p>\n",
       "</div>"
      ],
      "text/plain": [
       "  State  Account Length  Area Code     Phone Int'l Plan VMail Plan  \\\n",
       "0    KS             128        415  382-4657         no        yes   \n",
       "1    OH             107        415  371-7191         no        yes   \n",
       "2    NJ             137        415  358-1921         no         no   \n",
       "\n",
       "   VMail Message  Day Mins  Day Calls  Day Charge  ...  Eve Calls  Eve Charge  \\\n",
       "0             25     265.1        110       45.07  ...         99       16.78   \n",
       "1             26     161.6        123       27.47  ...        103       16.62   \n",
       "2              0     243.4        114       41.38  ...        110       10.30   \n",
       "\n",
       "   Night Mins  Night Calls  Night Charge  Intl Mins  Intl Calls  Intl Charge  \\\n",
       "0       244.7           91         11.01       10.0           3         2.70   \n",
       "1       254.4          103         11.45       13.7           3         3.70   \n",
       "2       162.6          104          7.32       12.2           5         3.29   \n",
       "\n",
       "   CustServ Calls  Churn?  \n",
       "0               1  False.  \n",
       "1               1  False.  \n",
       "2               0  False.  \n",
       "\n",
       "[3 rows x 21 columns]"
      ]
     },
     "execution_count": 8,
     "metadata": {},
     "output_type": "execute_result"
    }
   ],
   "source": [
    "# Print the first three rows of the dataset\n",
    "df.head(3)"
   ]
  },
  {
   "cell_type": "code",
   "execution_count": 40,
   "metadata": {},
   "outputs": [
    {
     "data": {
      "text/html": [
       "<div>\n",
       "<style scoped>\n",
       "    .dataframe tbody tr th:only-of-type {\n",
       "        vertical-align: middle;\n",
       "    }\n",
       "\n",
       "    .dataframe tbody tr th {\n",
       "        vertical-align: top;\n",
       "    }\n",
       "\n",
       "    .dataframe thead th {\n",
       "        text-align: right;\n",
       "    }\n",
       "</style>\n",
       "<table border=\"1\" class=\"dataframe\">\n",
       "  <thead>\n",
       "    <tr style=\"text-align: right;\">\n",
       "      <th></th>\n",
       "      <th>State</th>\n",
       "      <th>Int'l Plan</th>\n",
       "      <th>Account Length</th>\n",
       "      <th>Day Charge</th>\n",
       "      <th>Eve Charge</th>\n",
       "      <th>Night Charge</th>\n",
       "      <th>Intl Charge</th>\n",
       "      <th>CustServ Calls</th>\n",
       "    </tr>\n",
       "  </thead>\n",
       "  <tbody>\n",
       "    <tr>\n",
       "      <th>0</th>\n",
       "      <td>KS</td>\n",
       "      <td>no</td>\n",
       "      <td>128</td>\n",
       "      <td>45.07</td>\n",
       "      <td>16.78</td>\n",
       "      <td>11.01</td>\n",
       "      <td>2.70</td>\n",
       "      <td>1</td>\n",
       "    </tr>\n",
       "    <tr>\n",
       "      <th>1</th>\n",
       "      <td>OH</td>\n",
       "      <td>no</td>\n",
       "      <td>107</td>\n",
       "      <td>27.47</td>\n",
       "      <td>16.62</td>\n",
       "      <td>11.45</td>\n",
       "      <td>3.70</td>\n",
       "      <td>1</td>\n",
       "    </tr>\n",
       "    <tr>\n",
       "      <th>2</th>\n",
       "      <td>NJ</td>\n",
       "      <td>no</td>\n",
       "      <td>137</td>\n",
       "      <td>41.38</td>\n",
       "      <td>10.30</td>\n",
       "      <td>7.32</td>\n",
       "      <td>3.29</td>\n",
       "      <td>0</td>\n",
       "    </tr>\n",
       "    <tr>\n",
       "      <th>3</th>\n",
       "      <td>OH</td>\n",
       "      <td>yes</td>\n",
       "      <td>84</td>\n",
       "      <td>50.90</td>\n",
       "      <td>5.26</td>\n",
       "      <td>8.86</td>\n",
       "      <td>1.78</td>\n",
       "      <td>2</td>\n",
       "    </tr>\n",
       "    <tr>\n",
       "      <th>4</th>\n",
       "      <td>OK</td>\n",
       "      <td>yes</td>\n",
       "      <td>75</td>\n",
       "      <td>28.34</td>\n",
       "      <td>12.61</td>\n",
       "      <td>8.41</td>\n",
       "      <td>2.73</td>\n",
       "      <td>3</td>\n",
       "    </tr>\n",
       "  </tbody>\n",
       "</table>\n",
       "</div>"
      ],
      "text/plain": [
       "  State Int'l Plan  Account Length  Day Charge  Eve Charge  Night Charge  \\\n",
       "0    KS         no             128       45.07       16.78         11.01   \n",
       "1    OH         no             107       27.47       16.62         11.45   \n",
       "2    NJ         no             137       41.38       10.30          7.32   \n",
       "3    OH        yes              84       50.90        5.26          8.86   \n",
       "4    OK        yes              75       28.34       12.61          8.41   \n",
       "\n",
       "   Intl Charge  CustServ Calls  \n",
       "0         2.70               1  \n",
       "1         3.70               1  \n",
       "2         3.29               0  \n",
       "3         1.78               2  \n",
       "4         2.73               3  "
      ]
     },
     "execution_count": 40,
     "metadata": {},
     "output_type": "execute_result"
    }
   ],
   "source": [
    "# feature selection\n",
    "X = df[[\"State\", \"Int'l Plan\",\"Account Length\" , \"Day Charge\", \"Eve Charge\",\"Night Charge\",\"Intl Charge\",\"CustServ Calls\"]]\n",
    "# target selection\n",
    "y =df[\"Churn?\"]\n",
    "# review feature set\n",
    "X[0:5]"
   ]
  },
  {
   "cell_type": "code",
   "execution_count": 41,
   "metadata": {},
   "outputs": [],
   "source": [
    "# update state with one hot coding\n",
    "X=pd.get_dummies(X, columns=[\"State\"])\n",
    "# make sure i am using feature set values \n",
    "X=X.values\n",
    "# preprocess to update str variables to numerical variables\n",
    "from sklearn import preprocessing\n",
    "int_plan=preprocessing.LabelEncoder()\n",
    "int_plan.fit([\"no\", \"yes\"])\n",
    "X[:,0] = int_plan.transform(X[:,0])\n"
   ]
  },
  {
   "cell_type": "code",
   "execution_count": 42,
   "metadata": {},
   "outputs": [],
   "source": [
    "# create training and testing set\n",
    "from sklearn.model_selection import train_test_split\n",
    "X_trainset, X_testset, y_trainset, y_testset = train_test_split(X, y, test_size=0.2, random_state=3)\n"
   ]
  },
  {
   "cell_type": "code",
   "execution_count": 43,
   "metadata": {},
   "outputs": [
    {
     "data": {
      "text/plain": [
       "RandomForestClassifier(max_depth=5, max_features=10, n_estimators=10)"
      ]
     },
     "execution_count": 43,
     "metadata": {},
     "output_type": "execute_result"
    }
   ],
   "source": [
    "#create model using random forest classifier and fit the training set\n",
    "np.random.seed\n",
    "from sklearn.ensemble import RandomForestClassifier\n",
    "rf_model = RandomForestClassifier(n_estimators=10,max_depth=5,max_features=10,)\n",
    "rf_model.fit(X_trainset, y_trainset)"
   ]
  },
  {
   "cell_type": "code",
   "execution_count": 44,
   "metadata": {},
   "outputs": [
    {
     "data": {
      "text/plain": [
       "array(['False.', 'False.', 'False.', 'False.', 'False.', 'False.',\n",
       "       'False.', 'False.', 'False.', 'False.', 'False.', 'False.',\n",
       "       'False.', 'False.', 'False.', 'False.', 'False.', 'False.',\n",
       "       'False.', 'False.', 'False.', 'False.', 'False.', 'False.',\n",
       "       'False.', 'False.', 'False.', 'False.', 'False.', 'False.',\n",
       "       'False.', 'False.', 'False.', 'False.', 'False.', 'False.',\n",
       "       'False.', 'False.', 'False.', 'False.', 'False.', 'False.',\n",
       "       'False.', 'False.', 'False.', 'False.', 'True.', 'False.',\n",
       "       'False.', 'True.', 'False.', 'False.', 'False.', 'False.',\n",
       "       'False.', 'False.', 'False.', 'False.', 'False.', 'False.',\n",
       "       'False.', 'False.', 'False.', 'False.', 'False.', 'False.',\n",
       "       'False.', 'False.', 'False.', 'False.', 'False.', 'False.',\n",
       "       'False.', 'False.', 'False.', 'False.', 'False.', 'False.',\n",
       "       'False.', 'False.', 'False.', 'False.', 'False.', 'False.',\n",
       "       'False.', 'False.', 'False.', 'False.', 'False.', 'False.',\n",
       "       'False.', 'False.', 'False.', 'False.', 'False.', 'False.',\n",
       "       'False.', 'False.', 'False.', 'False.', 'False.', 'False.',\n",
       "       'False.', 'False.', 'False.', 'False.', 'False.', 'False.',\n",
       "       'False.', 'False.', 'False.', 'True.', 'False.', 'False.',\n",
       "       'False.', 'False.', 'False.', 'False.', 'False.', 'False.',\n",
       "       'False.', 'False.', 'False.', 'False.', 'False.', 'False.',\n",
       "       'False.', 'False.', 'False.', 'False.', 'False.', 'False.',\n",
       "       'False.', 'False.', 'False.', 'False.', 'False.', 'False.',\n",
       "       'False.', 'False.', 'False.', 'False.', 'False.', 'True.',\n",
       "       'False.', 'False.', 'False.', 'False.', 'False.', 'False.',\n",
       "       'False.', 'False.', 'False.', 'False.', 'False.', 'False.',\n",
       "       'False.', 'False.', 'False.', 'False.', 'False.', 'False.',\n",
       "       'False.', 'False.', 'False.', 'False.', 'False.', 'False.',\n",
       "       'False.', 'False.', 'False.', 'False.', 'False.', 'False.',\n",
       "       'False.', 'False.', 'False.', 'False.', 'False.', 'False.',\n",
       "       'False.', 'True.', 'False.', 'False.', 'False.', 'False.',\n",
       "       'False.', 'False.', 'False.', 'False.', 'False.', 'False.',\n",
       "       'False.', 'False.', 'False.', 'False.', 'False.', 'False.',\n",
       "       'False.', 'False.', 'False.', 'True.', 'False.', 'False.',\n",
       "       'False.', 'False.', 'False.', 'False.', 'False.', 'False.',\n",
       "       'False.', 'False.', 'False.', 'False.', 'False.', 'False.',\n",
       "       'False.', 'False.', 'False.', 'False.', 'False.', 'False.',\n",
       "       'False.', 'False.', 'False.', 'False.', 'False.', 'False.',\n",
       "       'False.', 'False.', 'False.', 'False.', 'False.', 'False.',\n",
       "       'False.', 'False.', 'False.', 'False.', 'False.', 'False.',\n",
       "       'False.', 'False.', 'False.', 'False.', 'False.', 'False.',\n",
       "       'False.', 'False.', 'False.', 'False.', 'False.', 'False.',\n",
       "       'False.', 'False.', 'False.', 'False.', 'False.', 'False.',\n",
       "       'False.', 'False.', 'False.', 'False.', 'False.', 'False.',\n",
       "       'False.', 'False.', 'False.', 'False.', 'False.', 'False.',\n",
       "       'False.', 'False.', 'False.', 'False.', 'False.', 'False.',\n",
       "       'False.', 'False.', 'False.', 'False.', 'False.', 'False.',\n",
       "       'False.', 'False.', 'False.', 'False.', 'False.', 'False.',\n",
       "       'False.', 'False.', 'False.', 'False.', 'False.', 'False.',\n",
       "       'False.', 'False.', 'False.', 'False.', 'False.', 'False.',\n",
       "       'False.', 'False.', 'False.', 'False.', 'False.', 'False.',\n",
       "       'False.', 'False.', 'False.', 'False.', 'False.', 'False.',\n",
       "       'False.', 'False.', 'False.', 'False.', 'False.', 'False.',\n",
       "       'False.', 'False.', 'False.', 'False.', 'False.', 'False.',\n",
       "       'False.', 'False.', 'False.', 'False.', 'False.', 'False.',\n",
       "       'False.', 'False.', 'False.', 'False.', 'False.', 'False.',\n",
       "       'False.', 'False.', 'False.', 'False.', 'False.', 'False.',\n",
       "       'False.', 'False.', 'False.', 'False.', 'False.', 'False.',\n",
       "       'False.', 'False.', 'False.', 'False.', 'False.', 'False.',\n",
       "       'False.', 'False.', 'False.', 'False.', 'False.', 'False.',\n",
       "       'False.', 'False.', 'False.', 'False.', 'False.', 'False.',\n",
       "       'False.', 'False.', 'False.', 'False.', 'False.', 'False.',\n",
       "       'False.', 'False.', 'False.', 'False.', 'False.', 'False.',\n",
       "       'False.', 'False.', 'False.', 'False.', 'False.', 'False.',\n",
       "       'False.', 'False.', 'False.', 'False.', 'False.', 'False.',\n",
       "       'False.', 'False.', 'False.', 'False.', 'False.', 'False.',\n",
       "       'False.', 'False.', 'False.', 'False.', 'False.', 'False.',\n",
       "       'False.', 'False.', 'False.', 'False.', 'False.', 'False.',\n",
       "       'False.', 'False.', 'False.', 'False.', 'False.', 'False.',\n",
       "       'False.', 'False.', 'False.', 'True.', 'False.', 'False.',\n",
       "       'False.', 'False.', 'False.', 'False.', 'False.', 'False.',\n",
       "       'False.', 'False.', 'False.', 'False.', 'False.', 'False.',\n",
       "       'False.', 'False.', 'False.', 'False.', 'False.', 'False.',\n",
       "       'False.', 'False.', 'False.', 'False.', 'False.', 'False.',\n",
       "       'False.', 'False.', 'False.', 'False.', 'False.', 'False.',\n",
       "       'False.', 'False.', 'False.', 'False.', 'False.', 'False.',\n",
       "       'False.', 'False.', 'False.', 'False.', 'False.', 'False.',\n",
       "       'False.', 'False.', 'False.', 'False.', 'False.', 'False.',\n",
       "       'False.', 'False.', 'False.', 'False.', 'False.', 'False.',\n",
       "       'False.', 'False.', 'False.', 'False.', 'False.', 'False.',\n",
       "       'False.', 'False.', 'False.', 'True.', 'False.', 'False.',\n",
       "       'False.', 'False.', 'False.', 'False.', 'False.', 'False.',\n",
       "       'False.', 'False.', 'False.', 'False.', 'False.', 'False.',\n",
       "       'False.', 'False.', 'False.', 'False.', 'False.', 'False.',\n",
       "       'False.', 'False.', 'False.', 'False.', 'False.', 'False.',\n",
       "       'False.', 'False.', 'False.', 'False.', 'True.', 'False.',\n",
       "       'False.', 'False.', 'False.', 'False.', 'False.', 'False.',\n",
       "       'False.', 'False.', 'False.', 'False.', 'False.', 'False.',\n",
       "       'False.', 'False.', 'False.', 'False.', 'False.', 'False.',\n",
       "       'False.', 'False.', 'False.', 'False.', 'False.', 'False.',\n",
       "       'False.', 'False.', 'False.', 'False.', 'False.', 'False.',\n",
       "       'False.', 'False.', 'False.', 'True.', 'False.', 'False.',\n",
       "       'False.', 'False.', 'False.', 'False.', 'False.', 'False.',\n",
       "       'False.', 'False.', 'False.', 'False.', 'False.', 'False.',\n",
       "       'False.', 'False.', 'False.', 'False.', 'False.', 'False.',\n",
       "       'False.', 'False.', 'False.', 'False.', 'False.', 'False.',\n",
       "       'False.', 'False.', 'False.', 'False.', 'False.', 'False.',\n",
       "       'False.', 'False.', 'False.', 'False.', 'False.', 'True.',\n",
       "       'False.', 'False.', 'False.', 'False.', 'False.', 'False.',\n",
       "       'False.', 'False.', 'False.', 'False.', 'False.', 'False.',\n",
       "       'False.', 'False.', 'False.', 'False.', 'False.', 'False.',\n",
       "       'False.', 'False.', 'False.', 'False.', 'False.', 'False.',\n",
       "       'False.', 'False.', 'False.', 'False.', 'False.', 'False.',\n",
       "       'False.', 'False.', 'False.', 'False.', 'False.', 'False.',\n",
       "       'False.', 'False.', 'False.', 'False.', 'False.', 'False.',\n",
       "       'False.', 'False.', 'False.', 'False.', 'False.', 'False.',\n",
       "       'False.', 'False.', 'False.', 'False.', 'False.', 'False.',\n",
       "       'False.', 'False.', 'False.', 'False.', 'False.', 'False.',\n",
       "       'False.', 'False.', 'False.', 'False.', 'False.', 'False.',\n",
       "       'False.', 'False.', 'False.', 'False.', 'False.', 'False.',\n",
       "       'False.', 'False.', 'False.', 'False.', 'False.', 'False.',\n",
       "       'False.'], dtype=object)"
      ]
     },
     "execution_count": 44,
     "metadata": {},
     "output_type": "execute_result"
    }
   ],
   "source": [
    "#create prediction using the model\n",
    "rf_pred = rf_model.predict(X_testset)\n",
    "rf_pred[0:3333]"
   ]
  },
  {
   "cell_type": "code",
   "execution_count": 45,
   "metadata": {},
   "outputs": [
    {
     "data": {
      "text/plain": [
       "0.8695652173913043"
      ]
     },
     "execution_count": 45,
     "metadata": {},
     "output_type": "execute_result"
    }
   ],
   "source": [
    "# Looking at the accuracy score (using two methods) \n",
    "from sklearn import metrics\n",
    "rf_model.score(X_testset, y_testset)\n",
    "metrics.accuracy_score(y_testset, rf_pred)"
   ]
  },
  {
   "cell_type": "code",
   "execution_count": 46,
   "metadata": {},
   "outputs": [
    {
     "data": {
      "text/plain": [
       "array([[571,   2],\n",
       "       [ 85,   9]], dtype=int64)"
      ]
     },
     "execution_count": 46,
     "metadata": {},
     "output_type": "execute_result"
    }
   ],
   "source": [
    "\n",
    "# confusion matrics to find precision and recall\n",
    "from sklearn.metrics import confusion_matrix\n",
    "confusion_matrix(y_testset, rf_pred)"
   ]
  },
  {
   "cell_type": "code",
   "execution_count": 51,
   "metadata": {},
   "outputs": [
    {
     "data": {
      "text/plain": [
       "0.8704268292682927"
      ]
     },
     "execution_count": 51,
     "metadata": {},
     "output_type": "execute_result"
    }
   ],
   "source": [
    "# Looking at the precision score\n",
    "from sklearn.metrics import precision_score\n",
    "from sklearn.metrics import classification_report\n",
    "\n",
    "precision_score(y_testset, rf_pred, pos_label='False.')"
   ]
  },
  {
   "cell_type": "code",
   "execution_count": 52,
   "metadata": {},
   "outputs": [
    {
     "data": {
      "text/plain": [
       "'              precision    recall  f1-score   support\\n\\n      False.       0.87      1.00      0.93       573\\n       True.       0.82      0.10      0.17        94\\n\\n    accuracy                           0.87       667\\n   macro avg       0.84      0.55      0.55       667\\nweighted avg       0.86      0.87      0.82       667\\n'"
      ]
     },
     "execution_count": 52,
     "metadata": {},
     "output_type": "execute_result"
    }
   ],
   "source": [
    "    classification_report(y_testset, rf_pred)"
   ]
  },
  {
   "cell_type": "code",
   "execution_count": 48,
   "metadata": {},
   "outputs": [
    {
     "data": {
      "text/plain": [
       "0.09574468085106383"
      ]
     },
     "execution_count": 48,
     "metadata": {},
     "output_type": "execute_result"
    }
   ],
   "source": [
    "# Looking at the recall score\n",
    "from sklearn.metrics import recall_score\n",
    "recall_score(y_testset, rf_pred, pos_label='True.')"
   ]
  },
  {
   "cell_type": "code",
   "execution_count": 53,
   "metadata": {},
   "outputs": [
    {
     "data": {
      "text/plain": [
       "SVC(C=0.025, kernel='linear', probability=True)"
      ]
     },
     "execution_count": 53,
     "metadata": {},
     "output_type": "execute_result"
    }
   ],
   "source": [
    "# creating the svm model and fitting training set\n",
    "# make sure to update probability to True for proabbility evaluation\n",
    "from sklearn.svm import SVC\n",
    "svc_model=SVC(probability=True,C=0.025,kernel='linear')\n",
    "svc_model.fit(X_trainset, y_trainset)\n"
   ]
  },
  {
   "cell_type": "code",
   "execution_count": 54,
   "metadata": {},
   "outputs": [
    {
     "data": {
      "text/plain": [
       "array(['False.', 'False.', 'False.', 'False.', 'False.', 'False.',\n",
       "       'False.', 'False.', 'False.', 'False.', 'False.', 'False.',\n",
       "       'False.', 'False.', 'False.', 'False.', 'False.', 'False.',\n",
       "       'False.', 'False.', 'False.', 'False.', 'False.', 'False.',\n",
       "       'False.', 'False.', 'False.', 'False.', 'False.', 'False.',\n",
       "       'False.', 'False.', 'False.', 'False.', 'False.', 'False.',\n",
       "       'False.', 'False.', 'False.', 'False.', 'False.', 'False.',\n",
       "       'False.', 'False.', 'False.', 'False.', 'False.', 'False.',\n",
       "       'False.', 'False.', 'False.', 'False.', 'False.', 'False.',\n",
       "       'False.', 'False.', 'False.', 'False.', 'False.', 'False.',\n",
       "       'False.', 'False.', 'False.', 'False.', 'False.', 'False.',\n",
       "       'False.', 'False.', 'False.', 'False.', 'False.', 'False.',\n",
       "       'False.', 'False.', 'False.', 'False.', 'False.', 'False.',\n",
       "       'False.', 'False.', 'False.', 'False.', 'False.', 'False.',\n",
       "       'False.', 'False.', 'False.', 'False.', 'False.', 'False.',\n",
       "       'False.', 'False.', 'False.', 'False.', 'False.', 'False.',\n",
       "       'False.', 'False.', 'False.', 'False.', 'False.', 'False.',\n",
       "       'False.', 'False.', 'False.', 'False.', 'False.', 'False.',\n",
       "       'False.', 'False.', 'False.', 'False.', 'False.', 'False.',\n",
       "       'False.', 'False.', 'False.', 'False.', 'False.', 'False.',\n",
       "       'False.', 'False.', 'False.', 'False.', 'False.', 'False.',\n",
       "       'False.', 'False.', 'False.', 'False.', 'False.', 'False.',\n",
       "       'False.', 'False.', 'False.', 'False.', 'False.', 'False.',\n",
       "       'False.', 'False.', 'False.', 'False.', 'False.', 'False.',\n",
       "       'False.', 'False.', 'False.', 'False.', 'False.', 'False.',\n",
       "       'False.', 'False.', 'False.', 'False.', 'False.', 'False.',\n",
       "       'False.', 'False.', 'False.', 'False.', 'False.', 'False.',\n",
       "       'False.', 'False.', 'False.', 'False.', 'False.', 'False.',\n",
       "       'False.', 'False.', 'False.', 'False.', 'False.', 'False.',\n",
       "       'False.', 'False.', 'False.', 'False.', 'False.', 'False.',\n",
       "       'False.', 'False.', 'False.', 'False.', 'False.', 'False.',\n",
       "       'False.', 'False.', 'False.', 'False.', 'False.', 'False.',\n",
       "       'False.', 'False.', 'False.', 'False.', 'False.', 'False.',\n",
       "       'False.', 'False.', 'False.', 'False.', 'False.', 'False.',\n",
       "       'False.', 'False.', 'False.', 'False.', 'False.', 'False.',\n",
       "       'False.', 'False.', 'False.', 'False.', 'False.', 'False.',\n",
       "       'False.', 'False.', 'False.', 'False.', 'False.', 'False.',\n",
       "       'False.', 'False.', 'False.', 'False.', 'False.', 'False.',\n",
       "       'False.', 'False.', 'False.', 'False.', 'False.', 'False.',\n",
       "       'False.', 'False.', 'False.', 'False.', 'False.', 'False.',\n",
       "       'False.', 'False.', 'False.', 'False.', 'False.', 'False.',\n",
       "       'False.', 'False.', 'False.', 'False.', 'False.', 'False.',\n",
       "       'False.', 'False.', 'False.', 'False.', 'False.', 'False.',\n",
       "       'False.', 'False.', 'False.', 'False.', 'False.', 'False.',\n",
       "       'False.', 'False.', 'False.', 'False.', 'False.', 'False.',\n",
       "       'False.', 'False.', 'False.', 'False.', 'False.', 'False.',\n",
       "       'False.', 'False.', 'False.', 'False.', 'False.', 'False.',\n",
       "       'False.', 'False.', 'False.', 'False.', 'False.', 'False.',\n",
       "       'False.', 'False.', 'False.', 'False.', 'False.', 'False.',\n",
       "       'False.', 'False.', 'False.', 'False.', 'False.', 'False.',\n",
       "       'False.', 'False.', 'False.', 'False.', 'False.', 'False.',\n",
       "       'False.', 'False.', 'False.', 'False.', 'False.', 'False.',\n",
       "       'False.', 'False.', 'False.', 'False.', 'False.', 'False.',\n",
       "       'False.', 'False.', 'False.', 'False.', 'False.', 'False.',\n",
       "       'False.', 'False.', 'False.', 'False.', 'False.', 'False.',\n",
       "       'False.', 'False.', 'False.', 'False.', 'False.', 'False.',\n",
       "       'False.', 'False.', 'False.', 'False.', 'False.', 'False.',\n",
       "       'False.', 'False.', 'False.', 'False.', 'False.', 'False.',\n",
       "       'False.', 'False.', 'False.', 'False.', 'False.', 'False.',\n",
       "       'False.', 'False.', 'False.', 'False.', 'False.', 'False.',\n",
       "       'False.', 'False.', 'False.', 'False.', 'False.', 'False.',\n",
       "       'False.', 'False.', 'False.', 'False.', 'False.', 'False.',\n",
       "       'False.', 'False.', 'False.', 'False.', 'False.', 'False.',\n",
       "       'False.', 'False.', 'False.', 'False.', 'False.', 'False.',\n",
       "       'False.', 'False.', 'False.', 'False.', 'False.', 'False.',\n",
       "       'False.', 'False.', 'False.', 'False.', 'False.', 'False.',\n",
       "       'False.', 'False.', 'False.', 'False.', 'False.', 'False.',\n",
       "       'False.', 'False.', 'False.', 'False.', 'False.', 'False.',\n",
       "       'False.', 'False.', 'False.', 'False.', 'False.', 'False.',\n",
       "       'False.', 'False.', 'False.', 'False.', 'False.', 'False.',\n",
       "       'False.', 'False.', 'False.', 'False.', 'False.', 'False.',\n",
       "       'False.', 'False.', 'False.', 'False.', 'False.', 'False.',\n",
       "       'False.', 'False.', 'False.', 'False.', 'False.', 'False.',\n",
       "       'False.', 'False.', 'False.', 'False.', 'False.', 'False.',\n",
       "       'False.', 'False.', 'False.', 'False.', 'False.', 'False.',\n",
       "       'False.', 'False.', 'False.', 'False.', 'False.', 'False.',\n",
       "       'False.', 'False.', 'False.', 'False.', 'False.', 'False.',\n",
       "       'False.', 'False.', 'False.', 'False.', 'False.', 'False.',\n",
       "       'False.', 'False.', 'False.', 'False.', 'False.', 'False.',\n",
       "       'False.', 'False.', 'False.', 'False.', 'False.', 'False.',\n",
       "       'False.', 'False.', 'False.', 'False.', 'False.', 'False.',\n",
       "       'False.', 'False.', 'False.', 'False.', 'False.', 'False.',\n",
       "       'False.', 'False.', 'False.', 'False.', 'False.', 'False.',\n",
       "       'False.', 'False.', 'False.', 'False.', 'False.', 'False.',\n",
       "       'False.', 'False.', 'False.', 'False.', 'False.', 'False.',\n",
       "       'False.', 'False.', 'False.', 'False.', 'False.', 'False.',\n",
       "       'False.', 'False.', 'False.', 'False.', 'False.', 'False.',\n",
       "       'False.', 'False.', 'False.', 'False.', 'False.', 'False.',\n",
       "       'False.', 'False.', 'False.', 'False.', 'False.', 'False.',\n",
       "       'False.', 'False.', 'False.', 'False.', 'False.', 'False.',\n",
       "       'False.', 'False.', 'False.', 'False.', 'False.', 'False.',\n",
       "       'False.', 'False.', 'False.', 'False.', 'False.', 'False.',\n",
       "       'False.', 'False.', 'False.', 'False.', 'False.', 'False.',\n",
       "       'False.', 'False.', 'False.', 'False.', 'False.', 'False.',\n",
       "       'False.', 'False.', 'False.', 'False.', 'False.', 'False.',\n",
       "       'False.', 'False.', 'False.', 'False.', 'False.', 'False.',\n",
       "       'False.', 'False.', 'False.', 'False.', 'False.', 'False.',\n",
       "       'False.', 'False.', 'False.', 'False.', 'False.', 'False.',\n",
       "       'False.', 'False.', 'False.', 'False.', 'False.', 'False.',\n",
       "       'False.', 'False.', 'False.', 'False.', 'False.', 'False.',\n",
       "       'False.', 'False.', 'False.', 'False.', 'False.', 'False.',\n",
       "       'False.', 'False.', 'False.', 'False.', 'False.', 'False.',\n",
       "       'False.', 'False.', 'False.', 'False.', 'False.', 'False.',\n",
       "       'False.', 'False.', 'False.', 'False.', 'False.', 'False.',\n",
       "       'False.', 'False.', 'False.', 'False.', 'False.', 'False.',\n",
       "       'False.', 'False.', 'False.', 'False.', 'False.', 'False.',\n",
       "       'False.', 'False.', 'False.', 'False.', 'False.', 'False.',\n",
       "       'False.', 'False.', 'False.', 'False.', 'False.', 'False.',\n",
       "       'False.', 'False.', 'False.', 'False.', 'False.', 'False.',\n",
       "       'False.', 'False.', 'False.', 'False.', 'False.', 'False.',\n",
       "       'False.', 'False.', 'False.', 'False.', 'False.', 'False.',\n",
       "       'False.'], dtype=object)"
      ]
     },
     "execution_count": 54,
     "metadata": {},
     "output_type": "execute_result"
    }
   ],
   "source": [
    "#create prediction using the model\n",
    "svc_pred = svc_model.predict(X_testset)\n",
    "svc_pred[0:3333]\n"
   ]
  },
  {
   "cell_type": "code",
   "execution_count": 55,
   "metadata": {},
   "outputs": [
    {
     "data": {
      "text/plain": [
       "array([[573,   0],\n",
       "       [ 94,   0]], dtype=int64)"
      ]
     },
     "execution_count": 55,
     "metadata": {},
     "output_type": "execute_result"
    }
   ],
   "source": [
    "# Look at the confusion matrix\n",
    "from sklearn.metrics import confusion_matrix\n",
    "confusion_matrix(y_testset, svc_pred)"
   ]
  },
  {
   "cell_type": "code",
   "execution_count": 56,
   "metadata": {},
   "outputs": [
    {
     "data": {
      "text/plain": [
       "0.8590704647676162"
      ]
     },
     "execution_count": 56,
     "metadata": {},
     "output_type": "execute_result"
    }
   ],
   "source": [
    "\n",
    "#precision score for svm\n",
    "precision_score(y_testset, svc_pred, pos_label='False.')"
   ]
  },
  {
   "cell_type": "code",
   "execution_count": 57,
   "metadata": {},
   "outputs": [
    {
     "data": {
      "text/plain": [
       "0.8590704647676162"
      ]
     },
     "execution_count": 57,
     "metadata": {},
     "output_type": "execute_result"
    }
   ],
   "source": [
    "# Looking at the precision score\n",
    "from sklearn.metrics import precision_score\n",
    "precision_score(y_testset, svc_pred, pos_label='False.')"
   ]
  },
  {
   "cell_type": "code",
   "execution_count": 58,
   "metadata": {},
   "outputs": [
    {
     "data": {
      "text/plain": [
       "0.0"
      ]
     },
     "execution_count": 58,
     "metadata": {},
     "output_type": "execute_result"
    }
   ],
   "source": [
    "# Looking at the recall score\n",
    "from sklearn.metrics import recall_score\n",
    "recall_score(y_testset, svc_pred, pos_label='True.')"
   ]
  },
  {
   "cell_type": "code",
   "execution_count": null,
   "metadata": {},
   "outputs": [],
   "source": []
  },
  {
   "cell_type": "code",
   "execution_count": null,
   "metadata": {},
   "outputs": [],
   "source": []
  }
 ],
 "metadata": {
  "kernelspec": {
   "display_name": "Python 3",
   "language": "python",
   "name": "python3"
  },
  "language_info": {
   "codemirror_mode": {
    "name": "ipython",
    "version": 3
   },
   "file_extension": ".py",
   "mimetype": "text/x-python",
   "name": "python",
   "nbconvert_exporter": "python",
   "pygments_lexer": "ipython3",
   "version": "3.7.4"
  }
 },
 "nbformat": 4,
 "nbformat_minor": 2
}
